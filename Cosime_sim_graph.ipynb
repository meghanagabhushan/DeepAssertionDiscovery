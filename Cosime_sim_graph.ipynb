{
 "cells": [
  {
   "cell_type": "code",
   "execution_count": 9,
   "metadata": {},
   "outputs": [],
   "source": [
    "import matplotlib.pyplot as plt\n",
    "import networkx as nx\n",
    " \n",
    " \n",
    "def plot_weighted_graph():\n",
    "    \"Plot a weighted graph\"\n",
    " \n",
    "    #2. Add nodes\n",
    "    G = nx.Graph() #Create a graph object called G\n",
    "    #node_list = ['Pancreas','Pancreatitis','Insulin','Diabetes','Hyperglycemia','American','Children','Renal']\n",
    "    node_list = ['Pancreas','Insulin','Diabetes','Children']\n",
    "    for node in node_list:\n",
    "        G.add_node(node)\n",
    " \n",
    "    #Note: You can also try a spring_layout\n",
    "    pos=nx.circular_layout(G) \n",
    "    nx.draw_networkx_nodes(G,pos,node_color='green',node_size=7500)\n",
    " \n",
    "    #3. If you want, add labels to the nodes\n",
    "    labels = {}\n",
    "    for node_name in node_list:\n",
    "        labels[str(node_name)] =str(node_name)\n",
    "    nx.draw_networkx_labels(G,pos,labels,font_size=16)\n",
    " \n",
    " \n",
    "    #4. Add the edges (4C2 = 6 combinations)\n",
    "    #NOTE: You usually read this data in from some source\n",
    "    #To keep the example self contained, I typed this out\n",
    "#     G.add_edge(node_list[0],node_list[1],weight=97) #Karpov vs Kasparov\n",
    "#     G.add_edge(node_list[0],node_list[2],weight=98) #Karpov vs Kramnik\n",
    "#     G.add_edge(node_list[0],node_list[3],weight=80) #Karpov vs Anand\n",
    "#     G.add_edge(node_list[0],node_list[4],weight=40) #Kasparov vs Kramnik\n",
    "#     G.add_edge(node_list[0],node_list[5],weight=10) #Kasparov vs Anand\n",
    "#     G.add_edge(node_list[0],node_list[6],weight=10) #Kramnik vs Anand\n",
    "#     G.add_edge(node_list[0],node_list[7],weight=20) #Karpov vs Kasparov\n",
    "#     G.add_edge(node_list[1],node_list[2],weight=80) #Karpov vs Kramnik\n",
    "#     G.add_edge(node_list[1],node_list[3],weight=60) #Karpov vs Anand\n",
    "#     G.add_edge(node_list[1],node_list[4],weight=60) #Kasparov vs Kramnik\n",
    "#     G.add_edge(node_list[1],node_list[5],weight=98) #Kasparov vs Anand\n",
    "#     G.add_edge(node_list[1],node_list[6],weight=40) #Kramnik vs Anand\n",
    "#     G.add_edge(node_list[1],node_list[7],weight=20) #Karpov vs Kasparov\n",
    "#     G.add_edge(node_list[2],node_list[3],weight=98) #Karpov vs Kramnik\n",
    "#     G.add_edge(node_list[2],node_list[4],weight=86) #Karpov vs Anand\n",
    "#     G.add_edge(node_list[2],node_list[5],weight=5) #Kasparov vs Kramnik\n",
    "#     G.add_edge(node_list[2],node_list[6],weight=10) #Kasparov vs Anand\n",
    "#     G.add_edge(node_list[2],node_list[7],weight=20) #Kramnik vs Anand\n",
    "#     G.add_edge(node_list[3],node_list[4],weight=98) #Karpov vs Kasparov\n",
    "#     G.add_edge(node_list[3],node_list[5],weight=80) #Karpov vs Kramnik\n",
    "#     G.add_edge(node_list[3],node_list[6],weight=99) #Karpov vs Anand\n",
    "#     G.add_edge(node_list[3],node_list[7],weight=60) #Kasparov vs Kramnik\n",
    "#     G.add_edge(node_list[4],node_list[5],weight=77) #Kasparov vs Anand\n",
    "#     G.add_edge(node_list[4],node_list[6],weight=52) #Kramnik vs Anand\n",
    "#     G.add_edge(node_list[4],node_list[7],weight=44) #Karpov vs Kasparov\n",
    "#     G.add_edge(node_list[5],node_list[6],weight=71) #Karpov vs Kramnik\n",
    "#     G.add_edge(node_list[5],node_list[7],weight=37) #Karpov vs Anand\n",
    "#     G.add_edge(node_list[6],node_list[7],weight=14) #Kasparov vs Kramnik\n",
    "    G.add_edge(node_list[0],node_list[1],weight=371)\n",
    "    G.add_edge(node_list[0],node_list[2],weight=200)\n",
    "    G.add_edge(node_list[0],node_list[3],weight=40)\n",
    "    G.add_edge(node_list[1],node_list[2],weight=420)\n",
    "    G.add_edge(node_list[1],node_list[3],weight=27)\n",
    "    G.add_edge(node_list[2],node_list[3],weight=102)\n",
    " \n",
    "    all_weights = []\n",
    "    #4 a. Iterate through the graph nodes to gather all the weights\n",
    "    for (node1,node2,data) in G.edges(data=True):\n",
    "        all_weights.append(data['weight']) #we'll use this when determining edge thickness\n",
    " \n",
    "    #4 b. Get unique weights\n",
    "    unique_weights = list(set(all_weights))\n",
    " \n",
    "    #4 c. Plot the edges - one by one!\n",
    "    for weight in unique_weights:\n",
    "        #4 d. Form a filtered list with just the weight you want to draw\n",
    "        weighted_edges = [(node1,node2) for (node1,node2,edge_attr) in G.edges(data=True) if edge_attr['weight']==weight]\n",
    "        #4 e. I think multiplying by [num_nodes/sum(all_weights)] makes the graphs edges look cleaner\n",
    "        width = weight*len(node_list)*3.0/sum(all_weights)\n",
    "        nx.draw_networkx_edges(G,pos,edgelist=weighted_edges,width=width)\n",
    " \n",
    "    #Plot the graph\n",
    "    plt.axis('off')\n",
    "    plt.title('Diabetes Word2Vec Cosine Similarity')\n",
    "    plt.savefig(\"diabetes_graph.png\") \n",
    "    plt.show() \n",
    " \n",
    "\n",
    "   "
   ]
  },
  {
   "cell_type": "code",
   "execution_count": 10,
   "metadata": {},
   "outputs": [
    {
     "data": {
      "image/png": "[encoded data removed]",
      "text/plain": [
       "<Figure size 432x288 with 1 Axes>"
      ]
     },
     "metadata": {
      "needs_background": "light"
     },
     "output_type": "display_data"
    }
   ],
   "source": [
    " plot_weighted_graph()"
   ]
  },
  {
   "cell_type": "code",
   "execution_count": null,
   "metadata": {},
   "outputs": [],
   "source": []
  }
 ],
 "metadata": {
  "kernelspec": {
   "display_name": "Python 3",
   "language": "python",
   "name": "python3"
  },
  "language_info": {
   "codemirror_mode": {
    "name": "ipython",
    "version": 3
   },
   "file_extension": ".py",
   "mimetype": "text/x-python",
   "name": "python",
   "nbconvert_exporter": "python",
   "pygments_lexer": "ipython3",
   "version": "3.6.5"
  }
 },
 "nbformat": 4,
 "nbformat_minor": 2
}
